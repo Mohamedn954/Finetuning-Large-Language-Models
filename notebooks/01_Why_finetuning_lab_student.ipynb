{
 "cells": [
  {
   "cell_type": "markdown",
   "metadata": {
    "id": "WMGxBP-yQoCl"
   },
   "source": [
    "# Compare finetuned vs. non-finetuned models"
   ]
  },
  {
   "cell_type": "code",
   "execution_count": 3,
   "metadata": {},
   "outputs": [
    {
     "name": "stdout",
     "output_type": "stream",
     "text": [
      "Collecting lamini\n",
      "  Obtaining dependency information for lamini from https://files.pythonhosted.org/packages/e5/c5/aa53b266812d3f194f094043773928fcd7950b0e36ffd42bcaad5d215436/lamini-1.0.2-32-py3-none-any.whl.metadata\n",
      "  Downloading lamini-1.0.2-32-py3-none-any.whl.metadata (1.5 kB)\n",
      "Collecting pydantic==1.10.* (from lamini)\n",
      "  Obtaining dependency information for pydantic==1.10.* from https://files.pythonhosted.org/packages/9c/2b/20029a5c58943c0dd19bbf1fda77e820101b63a26237b060217821a3daa3/pydantic-1.10.13-cp311-cp311-win_amd64.whl.metadata\n",
      "  Downloading pydantic-1.10.13-cp311-cp311-win_amd64.whl.metadata (150 kB)\n",
      "     ---------------------------------------- 0.0/150.9 kB ? eta -:--:--\n",
      "     --------------------------- --------- 112.6/150.9 kB 2.2 MB/s eta 0:00:01\n",
      "     ------------------------------------- 150.9/150.9 kB 2.3 MB/s eta 0:00:00\n",
      "Collecting lamini-configuration[yaml] (from lamini)\n",
      "  Obtaining dependency information for lamini-configuration[yaml] from https://files.pythonhosted.org/packages/a2/e7/f8769b3b4e7250431b040a476414a20f915e3988470efde916f0a117ceb6/lamini_configuration-0.8.3-py3-none-any.whl.metadata\n",
      "  Downloading lamini_configuration-0.8.3-py3-none-any.whl.metadata (11 kB)\n",
      "Collecting requests (from lamini)\n",
      "  Obtaining dependency information for requests from https://files.pythonhosted.org/packages/70/8e/0e2d847013cb52cd35b38c009bb167a1a26b2ce6cd6965bf26b47bc0bf44/requests-2.31.0-py3-none-any.whl.metadata\n",
      "  Downloading requests-2.31.0-py3-none-any.whl.metadata (4.6 kB)\n",
      "Collecting tokenizers (from lamini)\n",
      "  Obtaining dependency information for tokenizers from https://files.pythonhosted.org/packages/be/5f/2cc4f229bf85d90842f513be31a529595c10b8c8b8193c077230a8c17548/tokenizers-0.15.0-cp311-none-win_amd64.whl.metadata\n",
      "  Downloading tokenizers-0.15.0-cp311-none-win_amd64.whl.metadata (6.8 kB)\n",
      "Collecting tqdm (from lamini)\n",
      "  Obtaining dependency information for tqdm from https://files.pythonhosted.org/packages/00/e5/f12a80907d0884e6dff9c16d0c0114d81b8cd07dc3ae54c5e962cc83037e/tqdm-4.66.1-py3-none-any.whl.metadata\n",
      "  Downloading tqdm-4.66.1-py3-none-any.whl.metadata (57 kB)\n",
      "     ---------------------------------------- 0.0/57.6 kB ? eta -:--:--\n",
      "     ---------------------------------------- 57.6/57.6 kB ? eta 0:00:00\n",
      "Collecting numpy (from lamini)\n",
      "  Obtaining dependency information for numpy from https://files.pythonhosted.org/packages/da/3c/3ff05c2855eee52588f489a4e607e4a61699a0742aa03ccf641c77f9eb0a/numpy-1.26.2-cp311-cp311-win_amd64.whl.metadata\n",
      "  Downloading numpy-1.26.2-cp311-cp311-win_amd64.whl.metadata (61 kB)\n",
      "     ---------------------------------------- 0.0/61.2 kB ? eta -:--:--\n",
      "     --------------------------------------- 61.2/61.2 kB 3.4 MB/s eta 0:00:00\n",
      "Collecting scipy (from lamini)\n",
      "  Obtaining dependency information for scipy from https://files.pythonhosted.org/packages/81/d7/d2537d51efb692d0c411e64267ba349e7668d40f5bc73cefe78ccd650dcd/scipy-1.11.3-cp311-cp311-win_amd64.whl.metadata\n",
      "  Downloading scipy-1.11.3-cp311-cp311-win_amd64.whl.metadata (60 kB)\n",
      "     ---------------------------------------- 0.0/60.4 kB ? eta -:--:--\n",
      "     --------------------------------------- 60.4/60.4 kB 1.6 MB/s eta 0:00:00\n",
      "Collecting scikit-learn (from lamini)\n",
      "  Obtaining dependency information for scikit-learn from https://files.pythonhosted.org/packages/4e/ba/ce9bd1cd4953336a0e213b29cb80bb11816f2a93de8c99f88ef0b446ad0c/scikit_learn-1.3.2-cp311-cp311-win_amd64.whl.metadata\n",
      "  Downloading scikit_learn-1.3.2-cp311-cp311-win_amd64.whl.metadata (11 kB)\n",
      "Collecting jsonlines (from lamini)\n",
      "  Obtaining dependency information for jsonlines from https://files.pythonhosted.org/packages/f8/62/d9ba6323b9202dd2fe166beab8a86d29465c41a0288cbe229fac60c1ab8d/jsonlines-4.0.0-py3-none-any.whl.metadata\n",
      "  Downloading jsonlines-4.0.0-py3-none-any.whl.metadata (1.6 kB)\n",
      "Collecting pandas (from lamini)\n",
      "  Obtaining dependency information for pandas from https://files.pythonhosted.org/packages/97/d8/dc2f6bff06a799a5603c414afc6de39c6351fe34892d50b6a077df3be6ac/pandas-2.1.3-cp311-cp311-win_amd64.whl.metadata\n",
      "  Downloading pandas-2.1.3-cp311-cp311-win_amd64.whl.metadata (18 kB)\n",
      "Collecting faiss-cpu (from lamini)\n",
      "  Downloading faiss_cpu-1.7.4-cp311-cp311-win_amd64.whl (10.8 MB)\n",
      "     ---------------------------------------- 0.0/10.8 MB ? eta -:--:--\n",
      "     - ------------------------------------- 0.4/10.8 MB 11.6 MB/s eta 0:00:01\n",
      "     --- ----------------------------------- 1.1/10.8 MB 16.9 MB/s eta 0:00:01\n",
      "     ------ -------------------------------- 1.8/10.8 MB 14.3 MB/s eta 0:00:01\n",
      "     --------- ----------------------------- 2.6/10.8 MB 15.2 MB/s eta 0:00:01\n",
      "     ------------ -------------------------- 3.3/10.8 MB 15.1 MB/s eta 0:00:01\n",
      "     -------------- ------------------------ 4.0/10.8 MB 16.1 MB/s eta 0:00:01\n",
      "     ---------------- ---------------------- 4.5/10.8 MB 15.1 MB/s eta 0:00:01\n",
      "     ----------------- --------------------- 4.8/10.8 MB 14.0 MB/s eta 0:00:01\n",
      "     ------------------- ------------------- 5.5/10.8 MB 13.4 MB/s eta 0:00:01\n",
      "     ----------------------- --------------- 6.6/10.8 MB 14.5 MB/s eta 0:00:01\n",
      "     ------------------------- ------------- 7.0/10.8 MB 14.0 MB/s eta 0:00:01\n",
      "     --------------------------- ----------- 7.6/10.8 MB 13.6 MB/s eta 0:00:01\n",
      "     ------------------------------ -------- 8.4/10.8 MB 14.6 MB/s eta 0:00:01\n",
      "     -------------------------------- ------ 8.9/10.8 MB 14.2 MB/s eta 0:00:01\n",
      "     ---------------------------------- ---- 9.7/10.8 MB 13.7 MB/s eta 0:00:01\n",
      "     ----------------------------------- -- 10.0/10.8 MB 13.3 MB/s eta 0:00:01\n",
      "     ------------------------------------ - 10.3/10.8 MB 13.6 MB/s eta 0:00:01\n",
      "     -------------------------------------  10.8/10.8 MB 13.1 MB/s eta 0:00:01\n",
      "     -------------------------------------- 10.8/10.8 MB 11.7 MB/s eta 0:00:00\n",
      "Collecting azure-storage-blob (from lamini)\n",
      "  Obtaining dependency information for azure-storage-blob from https://files.pythonhosted.org/packages/f6/82/24b0d7cf67ea63af86f11092756b8fe2adc1d55323241dc4107f5f5748e2/azure_storage_blob-12.19.0-py3-none-any.whl.metadata\n",
      "  Downloading azure_storage_blob-12.19.0-py3-none-any.whl.metadata (26 kB)\n",
      "Collecting typing-extensions>=4.2.0 (from pydantic==1.10.*->lamini)\n",
      "  Obtaining dependency information for typing-extensions>=4.2.0 from https://files.pythonhosted.org/packages/24/21/7d397a4b7934ff4028987914ac1044d3b7d52712f30e2ac7a2ae5bc86dd0/typing_extensions-4.8.0-py3-none-any.whl.metadata\n",
      "  Using cached typing_extensions-4.8.0-py3-none-any.whl.metadata (3.0 kB)\n",
      "Collecting azure-core<2.0.0,>=1.28.0 (from azure-storage-blob->lamini)\n",
      "  Obtaining dependency information for azure-core<2.0.0,>=1.28.0 from https://files.pythonhosted.org/packages/9c/f8/1cf23a75cb8c2755c539ac967f3a7f607887c4979d073808134803720f0f/azure_core-1.29.5-py3-none-any.whl.metadata\n",
      "  Downloading azure_core-1.29.5-py3-none-any.whl.metadata (36 kB)\n",
      "Collecting cryptography>=2.1.4 (from azure-storage-blob->lamini)\n",
      "  Obtaining dependency information for cryptography>=2.1.4 from https://files.pythonhosted.org/packages/86/35/f03a42444866ef7f23134812a05012dcb509418214fb78ec848f28cd14b8/cryptography-41.0.5-cp37-abi3-win_amd64.whl.metadata\n",
      "  Downloading cryptography-41.0.5-cp37-abi3-win_amd64.whl.metadata (5.3 kB)\n",
      "Collecting isodate>=0.6.1 (from azure-storage-blob->lamini)\n",
      "  Downloading isodate-0.6.1-py2.py3-none-any.whl (41 kB)\n",
      "     ---------------------------------------- 0.0/41.7 kB ? eta -:--:--\n",
      "     ---------------------------------------- 41.7/41.7 kB ? eta 0:00:00\n",
      "Collecting attrs>=19.2.0 (from jsonlines->lamini)\n",
      "  Downloading attrs-23.1.0-py3-none-any.whl (61 kB)\n",
      "     ---------------------------------------- 0.0/61.2 kB ? eta -:--:--\n",
      "     ---------------------------------------- 61.2/61.2 kB ? eta 0:00:00\n",
      "Collecting pyyaml<7.0,>=6.0 (from lamini-configuration[yaml]->lamini)\n",
      "  Obtaining dependency information for pyyaml<7.0,>=6.0 from https://files.pythonhosted.org/packages/b3/34/65bb4b2d7908044963ebf614fe0fdb080773fc7030d7e39c8d3eddcd4257/PyYAML-6.0.1-cp311-cp311-win_amd64.whl.metadata\n",
      "  Downloading PyYAML-6.0.1-cp311-cp311-win_amd64.whl.metadata (2.1 kB)\n",
      "Collecting python-dateutil>=2.8.2 (from pandas->lamini)\n",
      "  Downloading python_dateutil-2.8.2-py2.py3-none-any.whl (247 kB)\n",
      "     ---------------------------------------- 0.0/247.7 kB ? eta -:--:--\n",
      "     ---------------------------------------- 247.7/247.7 kB ? eta 0:00:00\n",
      "Collecting pytz>=2020.1 (from pandas->lamini)\n",
      "  Obtaining dependency information for pytz>=2020.1 from https://files.pythonhosted.org/packages/32/4d/aaf7eff5deb402fd9a24a1449a8119f00d74ae9c2efa79f8ef9994261fc2/pytz-2023.3.post1-py2.py3-none-any.whl.metadata\n",
      "  Downloading pytz-2023.3.post1-py2.py3-none-any.whl.metadata (22 kB)\n",
      "Collecting tzdata>=2022.1 (from pandas->lamini)\n",
      "  Downloading tzdata-2023.3-py2.py3-none-any.whl (341 kB)\n",
      "     ---------------------------------------- 0.0/341.8 kB ? eta -:--:--\n",
      "     ------------------------------------ 341.8/341.8 kB 20.7 MB/s eta 0:00:00\n",
      "Collecting charset-normalizer<4,>=2 (from requests->lamini)\n",
      "  Obtaining dependency information for charset-normalizer<4,>=2 from https://files.pythonhosted.org/packages/57/ec/80c8d48ac8b1741d5b963797b7c0c869335619e13d4744ca2f67fc11c6fc/charset_normalizer-3.3.2-cp311-cp311-win_amd64.whl.metadata\n",
      "  Downloading charset_normalizer-3.3.2-cp311-cp311-win_amd64.whl.metadata (34 kB)\n",
      "Collecting idna<4,>=2.5 (from requests->lamini)\n",
      "  Downloading idna-3.4-py3-none-any.whl (61 kB)\n",
      "     ---------------------------------------- 0.0/61.5 kB ? eta -:--:--\n",
      "     --------------------------------------- 61.5/61.5 kB 1.7 MB/s eta 0:00:00\n",
      "Collecting urllib3<3,>=1.21.1 (from requests->lamini)\n",
      "  Obtaining dependency information for urllib3<3,>=1.21.1 from https://files.pythonhosted.org/packages/96/94/c31f58c7a7f470d5665935262ebd7455c7e4c7782eb525658d3dbf4b9403/urllib3-2.1.0-py3-none-any.whl.metadata\n",
      "  Using cached urllib3-2.1.0-py3-none-any.whl.metadata (6.4 kB)\n",
      "Collecting certifi>=2017.4.17 (from requests->lamini)\n",
      "  Obtaining dependency information for certifi>=2017.4.17 from https://files.pythonhosted.org/packages/4c/dd/2234eab22353ffc7d94e8d13177aaa050113286e93e7b40eae01fbf7c3d9/certifi-2023.7.22-py3-none-any.whl.metadata\n",
      "  Downloading certifi-2023.7.22-py3-none-any.whl.metadata (2.2 kB)\n",
      "Collecting joblib>=1.1.1 (from scikit-learn->lamini)\n",
      "  Obtaining dependency information for joblib>=1.1.1 from https://files.pythonhosted.org/packages/10/40/d551139c85db202f1f384ba8bcf96aca2f329440a844f924c8a0040b6d02/joblib-1.3.2-py3-none-any.whl.metadata\n",
      "  Downloading joblib-1.3.2-py3-none-any.whl.metadata (5.4 kB)\n",
      "Collecting threadpoolctl>=2.0.0 (from scikit-learn->lamini)\n",
      "  Obtaining dependency information for threadpoolctl>=2.0.0 from https://files.pythonhosted.org/packages/81/12/fd4dea011af9d69e1cad05c75f3f7202cdcbeac9b712eea58ca779a72865/threadpoolctl-3.2.0-py3-none-any.whl.metadata\n",
      "  Downloading threadpoolctl-3.2.0-py3-none-any.whl.metadata (10.0 kB)\n",
      "Collecting huggingface_hub<1.0,>=0.16.4 (from tokenizers->lamini)\n",
      "  Obtaining dependency information for huggingface_hub<1.0,>=0.16.4 from https://files.pythonhosted.org/packages/38/f6/06d7489a9f1b2112a640b3272abd43319d0ee625f26efafb350106893c19/huggingface_hub-0.19.3-py3-none-any.whl.metadata\n",
      "  Downloading huggingface_hub-0.19.3-py3-none-any.whl.metadata (14 kB)\n",
      "Collecting colorama (from tqdm->lamini)\n",
      "  Using cached colorama-0.4.6-py2.py3-none-any.whl (25 kB)\n",
      "Collecting six>=1.11.0 (from azure-core<2.0.0,>=1.28.0->azure-storage-blob->lamini)\n",
      "  Using cached six-1.16.0-py2.py3-none-any.whl (11 kB)\n",
      "Collecting cffi>=1.12 (from cryptography>=2.1.4->azure-storage-blob->lamini)\n",
      "  Obtaining dependency information for cffi>=1.12 from https://files.pythonhosted.org/packages/5a/c7/694814b3757878b29da39bc2f0cf9d20295f4c1e0a0bde7971708d5f23f8/cffi-1.16.0-cp311-cp311-win_amd64.whl.metadata\n",
      "  Downloading cffi-1.16.0-cp311-cp311-win_amd64.whl.metadata (1.5 kB)\n",
      "Collecting filelock (from huggingface_hub<1.0,>=0.16.4->tokenizers->lamini)\n",
      "  Obtaining dependency information for filelock from https://files.pythonhosted.org/packages/81/54/84d42a0bee35edba99dee7b59a8d4970eccdd44b99fe728ed912106fc781/filelock-3.13.1-py3-none-any.whl.metadata\n",
      "  Downloading filelock-3.13.1-py3-none-any.whl.metadata (2.8 kB)\n",
      "Collecting fsspec>=2023.5.0 (from huggingface_hub<1.0,>=0.16.4->tokenizers->lamini)\n",
      "  Obtaining dependency information for fsspec>=2023.5.0 from https://files.pythonhosted.org/packages/e8/f6/3eccfb530aac90ad1301c582da228e4763f19e719ac8200752a4841b0b2d/fsspec-2023.10.0-py3-none-any.whl.metadata\n",
      "  Downloading fsspec-2023.10.0-py3-none-any.whl.metadata (6.8 kB)\n",
      "Collecting packaging>=20.9 (from huggingface_hub<1.0,>=0.16.4->tokenizers->lamini)\n",
      "  Obtaining dependency information for packaging>=20.9 from https://files.pythonhosted.org/packages/ec/1a/610693ac4ee14fcdf2d9bf3c493370e4f2ef7ae2e19217d7a237ff42367d/packaging-23.2-py3-none-any.whl.metadata\n",
      "  Downloading packaging-23.2-py3-none-any.whl.metadata (3.2 kB)\n",
      "Collecting pycparser (from cffi>=1.12->cryptography>=2.1.4->azure-storage-blob->lamini)\n",
      "  Downloading pycparser-2.21-py2.py3-none-any.whl (118 kB)\n",
      "     ---------------------------------------- 0.0/118.7 kB ? eta -:--:--\n",
      "     ------------------------------------- 118.7/118.7 kB 6.8 MB/s eta 0:00:00\n",
      "Downloading lamini-1.0.2-32-py3-none-any.whl (65 kB)\n",
      "   ---------------------------------------- 0.0/65.7 kB ? eta -:--:--\n",
      "   ---------------------------------------- 65.7/65.7 kB 3.7 MB/s eta 0:00:00\n",
      "Downloading pydantic-1.10.13-cp311-cp311-win_amd64.whl (2.1 MB)\n",
      "   ---------------------------------------- 0.0/2.1 MB ? eta -:--:--\n",
      "   ------------------------ --------------- 1.3/2.1 MB 27.2 MB/s eta 0:00:01\n",
      "   ---------------------------------- ----- 1.8/2.1 MB 19.4 MB/s eta 0:00:01\n",
      "   ------------------------------------- -- 2.0/2.1 MB 13.9 MB/s eta 0:00:01\n",
      "   ---------------------------------------  2.1/2.1 MB 14.8 MB/s eta 0:00:01\n",
      "   ---------------------------------------- 2.1/2.1 MB 9.6 MB/s eta 0:00:00\n",
      "Downloading azure_storage_blob-12.19.0-py3-none-any.whl (394 kB)\n",
      "   ---------------------------------------- 0.0/394.2 kB ? eta -:--:--\n",
      "   -------------------------------------- 394.2/394.2 kB 12.0 MB/s eta 0:00:00\n",
      "Downloading jsonlines-4.0.0-py3-none-any.whl (8.7 kB)\n",
      "Downloading numpy-1.26.2-cp311-cp311-win_amd64.whl (15.8 MB)\n",
      "   ---------------------------------------- 0.0/15.8 MB ? eta -:--:--\n",
      "   -- ------------------------------------- 1.1/15.8 MB 35.3 MB/s eta 0:00:01\n",
      "   ---- ----------------------------------- 1.8/15.8 MB 16.4 MB/s eta 0:00:01\n",
      "   ------ --------------------------------- 2.6/15.8 MB 16.3 MB/s eta 0:00:01\n",
      "   ------ --------------------------------- 2.7/15.8 MB 14.4 MB/s eta 0:00:01\n",
      "   -------- ------------------------------- 3.2/15.8 MB 12.7 MB/s eta 0:00:01\n",
      "   --------- ------------------------------ 3.8/15.8 MB 12.7 MB/s eta 0:00:01\n",
      "   ------------ --------------------------- 4.9/15.8 MB 14.2 MB/s eta 0:00:01\n",
      "   ------------- -------------------------- 5.4/15.8 MB 15.0 MB/s eta 0:00:01\n",
      "   --------------- ------------------------ 6.2/15.8 MB 14.1 MB/s eta 0:00:01\n",
      "   ---------------- ----------------------- 6.5/15.8 MB 13.4 MB/s eta 0:00:01\n",
      "   ------------------ --------------------- 7.2/15.8 MB 13.5 MB/s eta 0:00:01\n",
      "   -------------------- ------------------- 7.9/15.8 MB 13.7 MB/s eta 0:00:01\n",
      "   --------------------- ------------------ 8.4/15.8 MB 13.4 MB/s eta 0:00:01\n",
      "   ----------------------- ---------------- 9.2/15.8 MB 13.7 MB/s eta 0:00:01\n",
      "   ------------------------ --------------- 9.8/15.8 MB 13.6 MB/s eta 0:00:01\n",
      "   -------------------------- ------------- 10.3/15.8 MB 13.4 MB/s eta 0:00:01\n",
      "   -------------------------- ------------- 10.3/15.8 MB 13.4 MB/s eta 0:00:01\n",
      "   --------------------------- ------------ 11.0/15.8 MB 12.1 MB/s eta 0:00:01\n",
      "   ----------------------------- ---------- 11.5/15.8 MB 11.9 MB/s eta 0:00:01\n",
      "   ------------------------------- -------- 12.3/15.8 MB 11.9 MB/s eta 0:00:01\n",
      "   -------------------------------- ------- 12.7/15.8 MB 12.4 MB/s eta 0:00:01\n",
      "   ----------------------------------- ---- 14.1/15.8 MB 12.9 MB/s eta 0:00:01\n",
      "   ------------------------------------- -- 14.7/15.8 MB 12.4 MB/s eta 0:00:01\n",
      "   ------------------------------------- -- 14.7/15.8 MB 12.4 MB/s eta 0:00:01\n",
      "   ---------------------------------------  15.8/15.8 MB 12.4 MB/s eta 0:00:01\n",
      "   ---------------------------------------  15.8/15.8 MB 12.4 MB/s eta 0:00:01\n",
      "   ---------------------------------------- 15.8/15.8 MB 10.9 MB/s eta 0:00:00\n",
      "Downloading pandas-2.1.3-cp311-cp311-win_amd64.whl (10.6 MB)\n",
      "   ---------------------------------------- 0.0/10.6 MB ? eta -:--:--\n",
      "   --- ------------------------------------ 0.9/10.6 MB 19.6 MB/s eta 0:00:01\n",
      "   -------- ------------------------------- 2.1/10.6 MB 27.2 MB/s eta 0:00:01\n",
      "   ----------- ---------------------------- 3.1/10.6 MB 22.1 MB/s eta 0:00:01\n",
      "   -------------- ------------------------- 3.8/10.6 MB 22.1 MB/s eta 0:00:01\n",
      "   --------------- ------------------------ 4.2/10.6 MB 17.9 MB/s eta 0:00:01\n",
      "   ------------------ --------------------- 4.8/10.6 MB 17.0 MB/s eta 0:00:01\n",
      "   ------------------- -------------------- 5.2/10.6 MB 16.7 MB/s eta 0:00:01\n",
      "   ------------------- -------------------- 5.3/10.6 MB 14.6 MB/s eta 0:00:01\n",
      "   ----------------------- ---------------- 6.3/10.6 MB 14.9 MB/s eta 0:00:01\n",
      "   ------------------------- -------------- 6.6/10.6 MB 14.6 MB/s eta 0:00:01\n",
      "   --------------------------- ------------ 7.3/10.6 MB 14.2 MB/s eta 0:00:01\n",
      "   ----------------------------- ---------- 7.9/10.6 MB 14.1 MB/s eta 0:00:01\n",
      "   ------------------------------- -------- 8.3/10.6 MB 13.7 MB/s eta 0:00:01\n",
      "   ------------------------------- -------- 8.5/10.6 MB 12.9 MB/s eta 0:00:01\n",
      "   ---------------------------------- ----- 9.2/10.6 MB 12.5 MB/s eta 0:00:01\n",
      "   ------------------------------------- -- 9.9/10.6 MB 13.0 MB/s eta 0:00:01\n",
      "   ------------------------------------- -- 10.0/10.6 MB 12.3 MB/s eta 0:00:01\n",
      "   -------------------------------------- - 10.3/10.6 MB 11.3 MB/s eta 0:00:01\n",
      "   ---------------------------------------  10.6/10.6 MB 11.3 MB/s eta 0:00:01\n",
      "   ---------------------------------------- 10.6/10.6 MB 10.4 MB/s eta 0:00:00\n",
      "Downloading requests-2.31.0-py3-none-any.whl (62 kB)\n",
      "   ---------------------------------------- 0.0/62.6 kB ? eta -:--:--\n",
      "   ---------------------------------------- 62.6/62.6 kB 3.3 MB/s eta 0:00:00\n",
      "Downloading scikit_learn-1.3.2-cp311-cp311-win_amd64.whl (9.2 MB)\n",
      "   ---------------------------------------- 0.0/9.2 MB ? eta -:--:--\n",
      "   - -------------------------------------- 0.4/9.2 MB ? eta -:--:--\n",
      "   ------ --------------------------------- 1.5/9.2 MB 19.3 MB/s eta 0:00:01\n",
      "   --------- ------------------------------ 2.2/9.2 MB 17.7 MB/s eta 0:00:01\n",
      "   ------------ --------------------------- 3.0/9.2 MB 15.7 MB/s eta 0:00:01\n",
      "   ----------------- ---------------------- 4.0/9.2 MB 18.1 MB/s eta 0:00:01\n",
      "   ------------------ --------------------- 4.2/9.2 MB 15.6 MB/s eta 0:00:01\n",
      "   -------------------- ------------------- 4.6/9.2 MB 15.5 MB/s eta 0:00:01\n",
      "   --------------------- ------------------ 5.0/9.2 MB 13.9 MB/s eta 0:00:01\n",
      "   ---------------------- ----------------- 5.1/9.2 MB 13.1 MB/s eta 0:00:01\n",
      "   ----------------------- ---------------- 5.4/9.2 MB 12.8 MB/s eta 0:00:01\n",
      "   --------------------------- ------------ 6.3/9.2 MB 12.5 MB/s eta 0:00:01\n",
      "   ----------------------------- ---------- 6.7/9.2 MB 12.5 MB/s eta 0:00:01\n",
      "   ------------------------------ --------- 7.1/9.2 MB 11.9 MB/s eta 0:00:01\n",
      "   ------------------------------- -------- 7.2/9.2 MB 11.5 MB/s eta 0:00:01\n",
      "   ------------------------------- -------- 7.3/9.2 MB 11.4 MB/s eta 0:00:01\n",
      "   --------------------------------- ------ 7.6/9.2 MB 10.6 MB/s eta 0:00:01\n",
      "   --------------------------------- ------ 7.8/9.2 MB 10.0 MB/s eta 0:00:01\n",
      "   ----------------------------------- ---- 8.2/9.2 MB 9.8 MB/s eta 0:00:01\n",
      "   ------------------------------------- -- 8.5/9.2 MB 9.7 MB/s eta 0:00:01\n",
      "   -------------------------------------- - 8.9/9.2 MB 9.6 MB/s eta 0:00:01\n",
      "   ---------------------------------------  9.2/9.2 MB 9.8 MB/s eta 0:00:01\n",
      "   ---------------------------------------- 9.2/9.2 MB 9.2 MB/s eta 0:00:00\n",
      "Downloading scipy-1.11.3-cp311-cp311-win_amd64.whl (44.1 MB)\n",
      "   ---------------------------------------- 0.0/44.1 MB ? eta -:--:--\n",
      "    --------------------------------------- 0.7/44.1 MB 21.1 MB/s eta 0:00:03\n",
      "   - -------------------------------------- 1.9/44.1 MB 24.8 MB/s eta 0:00:02\n",
      "   -- ------------------------------------- 2.2/44.1 MB 28.4 MB/s eta 0:00:02\n",
      "   -- ------------------------------------- 2.4/44.1 MB 12.6 MB/s eta 0:00:04\n",
      "   --- ------------------------------------ 3.8/44.1 MB 15.1 MB/s eta 0:00:03\n",
      "   --- ------------------------------------ 4.1/44.1 MB 13.8 MB/s eta 0:00:03\n",
      "   ---- ----------------------------------- 4.5/44.1 MB 12.5 MB/s eta 0:00:04\n",
      "   ---- ----------------------------------- 4.7/44.1 MB 13.0 MB/s eta 0:00:04\n",
      "   ---- ----------------------------------- 4.7/44.1 MB 13.0 MB/s eta 0:00:04\n",
      "   ----- ---------------------------------- 6.2/44.1 MB 12.0 MB/s eta 0:00:04\n",
      "   ------ --------------------------------- 6.9/44.1 MB 13.3 MB/s eta 0:00:03\n",
      "   ------ --------------------------------- 7.1/44.1 MB 11.6 MB/s eta 0:00:04\n",
      "   ------- -------------------------------- 7.8/44.1 MB 11.9 MB/s eta 0:00:04\n",
      "   ------- -------------------------------- 8.8/44.1 MB 12.5 MB/s eta 0:00:03\n",
      "   -------- ------------------------------- 9.5/44.1 MB 12.9 MB/s eta 0:00:03\n",
      "   --------- ------------------------------ 10.0/44.1 MB 12.6 MB/s eta 0:00:03\n",
      "   --------- ------------------------------ 10.6/44.1 MB 12.6 MB/s eta 0:00:03\n",
      "   ---------- ----------------------------- 11.3/44.1 MB 12.6 MB/s eta 0:00:03\n",
      "   ---------- ----------------------------- 11.7/44.1 MB 11.7 MB/s eta 0:00:03\n",
      "   ----------- ---------------------------- 12.2/44.1 MB 11.5 MB/s eta 0:00:03\n",
      "   ----------- ---------------------------- 12.5/44.1 MB 11.9 MB/s eta 0:00:03\n",
      "   ----------- ---------------------------- 12.9/44.1 MB 11.7 MB/s eta 0:00:03\n",
      "   ------------ --------------------------- 13.5/44.1 MB 11.3 MB/s eta 0:00:03\n",
      "   ------------ --------------------------- 14.3/44.1 MB 11.7 MB/s eta 0:00:03\n",
      "   ------------ --------------------------- 14.3/44.1 MB 11.5 MB/s eta 0:00:03\n",
      "   ------------- -------------------------- 14.3/44.1 MB 10.9 MB/s eta 0:00:03\n",
      "   ------------- -------------------------- 14.9/44.1 MB 10.9 MB/s eta 0:00:03\n",
      "   -------------- ------------------------- 15.5/44.1 MB 11.5 MB/s eta 0:00:03\n",
      "   -------------- ------------------------- 15.5/44.1 MB 11.5 MB/s eta 0:00:03\n",
      "   -------------- ------------------------- 15.8/44.1 MB 10.6 MB/s eta 0:00:03\n",
      "   -------------- ------------------------- 16.4/44.1 MB 10.7 MB/s eta 0:00:03\n",
      "   --------------- ------------------------ 16.8/44.1 MB 10.2 MB/s eta 0:00:03\n",
      "   --------------- ------------------------ 17.3/44.1 MB 10.7 MB/s eta 0:00:03\n",
      "   --------------- ------------------------ 17.5/44.1 MB 10.2 MB/s eta 0:00:03\n",
      "   ---------------- ----------------------- 17.7/44.1 MB 10.2 MB/s eta 0:00:03\n",
      "   ---------------- ----------------------- 18.7/44.1 MB 10.1 MB/s eta 0:00:03\n",
      "   ----------------- ---------------------- 19.2/44.1 MB 9.9 MB/s eta 0:00:03\n",
      "   ----------------- ---------------------- 19.3/44.1 MB 9.6 MB/s eta 0:00:03\n",
      "   ----------------- ---------------------- 19.6/44.1 MB 9.2 MB/s eta 0:00:03\n",
      "   ------------------ --------------------- 19.8/44.1 MB 9.2 MB/s eta 0:00:03\n",
      "   ------------------ --------------------- 20.0/44.1 MB 9.0 MB/s eta 0:00:03\n",
      "   ------------------ --------------------- 20.1/44.1 MB 8.7 MB/s eta 0:00:03\n",
      "   ------------------ --------------------- 20.5/44.1 MB 8.5 MB/s eta 0:00:03\n",
      "   ------------------- -------------------- 21.1/44.1 MB 8.6 MB/s eta 0:00:03\n",
      "   ------------------- -------------------- 21.4/44.1 MB 8.4 MB/s eta 0:00:03\n",
      "   ------------------- -------------------- 22.0/44.1 MB 8.6 MB/s eta 0:00:03\n",
      "   ------------------- -------------------- 22.0/44.1 MB 8.6 MB/s eta 0:00:03\n",
      "   -------------------- ------------------- 22.4/44.1 MB 8.2 MB/s eta 0:00:03\n",
      "   -------------------- ------------------- 22.6/44.1 MB 8.3 MB/s eta 0:00:03\n",
      "   --------------------- ------------------ 23.4/44.1 MB 8.4 MB/s eta 0:00:03\n",
      "   --------------------- ------------------ 23.6/44.1 MB 8.2 MB/s eta 0:00:03\n",
      "   --------------------- ------------------ 24.0/44.1 MB 8.3 MB/s eta 0:00:03\n",
      "   --------------------- ------------------ 24.0/44.1 MB 8.3 MB/s eta 0:00:03\n",
      "   --------------------- ------------------ 24.2/44.1 MB 7.6 MB/s eta 0:00:03\n",
      "   ---------------------- ----------------- 24.5/44.1 MB 7.6 MB/s eta 0:00:03\n",
      "   ---------------------- ----------------- 24.8/44.1 MB 7.9 MB/s eta 0:00:03\n",
      "   ----------------------- ---------------- 25.6/44.1 MB 7.9 MB/s eta 0:00:03\n",
      "   ----------------------- ---------------- 26.4/44.1 MB 8.4 MB/s eta 0:00:03\n",
      "   ------------------------ --------------- 26.8/44.1 MB 8.5 MB/s eta 0:00:03\n",
      "   ------------------------ --------------- 27.1/44.1 MB 8.3 MB/s eta 0:00:03\n",
      "   ------------------------ --------------- 27.3/44.1 MB 8.0 MB/s eta 0:00:03\n",
      "   ------------------------- -------------- 28.5/44.1 MB 8.5 MB/s eta 0:00:02\n",
      "   ------------------------- -------------- 28.6/44.1 MB 8.5 MB/s eta 0:00:02\n",
      "   -------------------------- ------------- 29.1/44.1 MB 8.3 MB/s eta 0:00:02\n",
      "   -------------------------- ------------- 29.4/44.1 MB 8.2 MB/s eta 0:00:02\n",
      "   --------------------------- ------------ 30.0/44.1 MB 8.7 MB/s eta 0:00:02\n",
      "   --------------------------- ------------ 30.2/44.1 MB 8.8 MB/s eta 0:00:02\n",
      "   --------------------------- ------------ 30.5/44.1 MB 8.8 MB/s eta 0:00:02\n",
      "   ---------------------------- ----------- 31.0/44.1 MB 8.8 MB/s eta 0:00:02\n",
      "   ---------------------------- ----------- 31.4/44.1 MB 8.8 MB/s eta 0:00:02\n",
      "   ---------------------------- ----------- 31.7/44.1 MB 9.0 MB/s eta 0:00:02\n",
      "   ---------------------------- ----------- 31.8/44.1 MB 8.7 MB/s eta 0:00:02\n",
      "   ----------------------------- ---------- 32.0/44.1 MB 8.4 MB/s eta 0:00:02\n",
      "   ----------------------------- ---------- 32.6/44.1 MB 8.7 MB/s eta 0:00:02\n",
      "   ----------------------------- ---------- 32.8/44.1 MB 8.6 MB/s eta 0:00:02\n",
      "   ------------------------------ --------- 33.2/44.1 MB 8.4 MB/s eta 0:00:02\n",
      "   ------------------------------ --------- 33.6/44.1 MB 8.4 MB/s eta 0:00:02\n",
      "   ------------------------------ --------- 33.9/44.1 MB 8.3 MB/s eta 0:00:02\n",
      "   ------------------------------ --------- 34.1/44.1 MB 8.4 MB/s eta 0:00:02\n",
      "   ------------------------------ --------- 34.1/44.1 MB 7.9 MB/s eta 0:00:02\n",
      "   ------------------------------- -------- 34.5/44.1 MB 8.4 MB/s eta 0:00:02\n",
      "   ------------------------------- -------- 34.6/44.1 MB 8.2 MB/s eta 0:00:02\n",
      "   ------------------------------- -------- 34.8/44.1 MB 8.3 MB/s eta 0:00:02\n",
      "   ------------------------------- -------- 35.0/44.1 MB 8.1 MB/s eta 0:00:02\n",
      "   -------------------------------- ------- 35.5/44.1 MB 8.1 MB/s eta 0:00:02\n",
      "   -------------------------------- ------- 35.9/44.1 MB 7.9 MB/s eta 0:00:02\n",
      "   -------------------------------- ------- 36.4/44.1 MB 7.8 MB/s eta 0:00:01\n",
      "   --------------------------------- ------ 36.7/44.1 MB 7.5 MB/s eta 0:00:01\n",
      "   --------------------------------- ------ 37.1/44.1 MB 7.7 MB/s eta 0:00:01\n",
      "   --------------------------------- ------ 37.4/44.1 MB 7.9 MB/s eta 0:00:01\n",
      "   ---------------------------------- ----- 37.9/44.1 MB 7.8 MB/s eta 0:00:01\n",
      "   ---------------------------------- ----- 38.2/44.1 MB 7.6 MB/s eta 0:00:01\n",
      "   ----------------------------------- ---- 38.6/44.1 MB 7.4 MB/s eta 0:00:01\n",
      "   ----------------------------------- ---- 38.9/44.1 MB 7.3 MB/s eta 0:00:01\n",
      "   ----------------------------------- ---- 39.2/44.1 MB 7.4 MB/s eta 0:00:01\n",
      "   ----------------------------------- ---- 39.6/44.1 MB 7.5 MB/s eta 0:00:01\n",
      "   ------------------------------------ --- 39.9/44.1 MB 7.4 MB/s eta 0:00:01\n",
      "   ------------------------------------ --- 39.9/44.1 MB 7.4 MB/s eta 0:00:01\n",
      "   ------------------------------------ --- 39.9/44.1 MB 7.4 MB/s eta 0:00:01\n",
      "   ------------------------------------ --- 39.9/44.1 MB 7.4 MB/s eta 0:00:01\n",
      "   ------------------------------------ --- 39.9/44.1 MB 7.4 MB/s eta 0:00:01\n",
      "   ------------------------------------- -- 41.4/44.1 MB 7.0 MB/s eta 0:00:01\n",
      "   -------------------------------------- - 42.0/44.1 MB 7.3 MB/s eta 0:00:01\n",
      "   -------------------------------------- - 42.4/44.1 MB 7.4 MB/s eta 0:00:01\n",
      "   ---------------------------------------  43.0/44.1 MB 7.7 MB/s eta 0:00:01\n",
      "   ---------------------------------------  43.4/44.1 MB 7.7 MB/s eta 0:00:01\n",
      "   ---------------------------------------  43.8/44.1 MB 7.5 MB/s eta 0:00:01\n",
      "   ---------------------------------------  44.1/44.1 MB 7.9 MB/s eta 0:00:01\n",
      "   ---------------------------------------  44.1/44.1 MB 7.9 MB/s eta 0:00:01\n",
      "   ---------------------------------------  44.1/44.1 MB 7.9 MB/s eta 0:00:01\n",
      "   ---------------------------------------- 44.1/44.1 MB 6.9 MB/s eta 0:00:00\n",
      "Downloading tokenizers-0.15.0-cp311-none-win_amd64.whl (2.2 MB)\n",
      "   ---------------------------------------- 0.0/2.2 MB ? eta -:--:--\n",
      "   ---------- ----------------------------- 0.6/2.2 MB 12.2 MB/s eta 0:00:01\n",
      "   ---------------- ----------------------- 0.9/2.2 MB 14.4 MB/s eta 0:00:01\n",
      "   ---------------------------------------  2.2/2.2 MB 15.3 MB/s eta 0:00:01\n",
      "   ---------------------------------------- 2.2/2.2 MB 12.7 MB/s eta 0:00:00\n",
      "Downloading tqdm-4.66.1-py3-none-any.whl (78 kB)\n",
      "   ---------------------------------------- 0.0/78.3 kB ? eta -:--:--\n",
      "   ---------------------------------------- 78.3/78.3 kB 2.2 MB/s eta 0:00:00\n",
      "Downloading azure_core-1.29.5-py3-none-any.whl (192 kB)\n",
      "   ---------------------------------------- 0.0/192.4 kB ? eta -:--:--\n",
      "   -------------------------------------- 192.4/192.4 kB 11.4 MB/s eta 0:00:00\n",
      "Downloading certifi-2023.7.22-py3-none-any.whl (158 kB)\n",
      "   ---------------------------------------- 0.0/158.3 kB ? eta -:--:--\n",
      "   --------------------------------------- 158.3/158.3 kB 9.3 MB/s eta 0:00:00\n",
      "Downloading charset_normalizer-3.3.2-cp311-cp311-win_amd64.whl (99 kB)\n",
      "   ---------------------------------------- 0.0/99.9 kB ? eta -:--:--\n",
      "   ---------------------------------------- 99.9/99.9 kB ? eta 0:00:00\n",
      "Downloading cryptography-41.0.5-cp37-abi3-win_amd64.whl (2.7 MB)\n",
      "   ---------------------------------------- 0.0/2.7 MB ? eta -:--:--\n",
      "   ---- ----------------------------------- 0.3/2.7 MB 8.9 MB/s eta 0:00:01\n",
      "   ----------- ---------------------------- 0.7/2.7 MB 9.3 MB/s eta 0:00:01\n",
      "   -------------------------- ------------- 1.8/2.7 MB 11.3 MB/s eta 0:00:01\n",
      "   ---------------------------------------  2.7/2.7 MB 13.1 MB/s eta 0:00:01\n",
      "   ---------------------------------------- 2.7/2.7 MB 12.2 MB/s eta 0:00:00\n",
      "Downloading huggingface_hub-0.19.3-py3-none-any.whl (311 kB)\n",
      "   ---------------------------------------- 0.0/311.2 kB ? eta -:--:--\n",
      "   --------------------------------------- 311.2/311.2 kB 9.7 MB/s eta 0:00:00\n",
      "Downloading joblib-1.3.2-py3-none-any.whl (302 kB)\n",
      "   ---------------------------------------- 0.0/302.2 kB ? eta -:--:--\n",
      "   -------------------------------------- 302.2/302.2 kB 18.2 MB/s eta 0:00:00\n",
      "Downloading pytz-2023.3.post1-py2.py3-none-any.whl (502 kB)\n",
      "   ---------------------------------------- 0.0/502.5 kB ? eta -:--:--\n",
      "   -------------------------------------- 502.5/502.5 kB 15.9 MB/s eta 0:00:00\n",
      "Downloading PyYAML-6.0.1-cp311-cp311-win_amd64.whl (144 kB)\n",
      "   ---------------------------------------- 0.0/144.7 kB ? eta -:--:--\n",
      "   ---------------------------------------- 144.7/144.7 kB ? eta 0:00:00\n",
      "Downloading threadpoolctl-3.2.0-py3-none-any.whl (15 kB)\n",
      "Using cached typing_extensions-4.8.0-py3-none-any.whl (31 kB)\n",
      "Using cached urllib3-2.1.0-py3-none-any.whl (104 kB)\n",
      "Downloading lamini_configuration-0.8.3-py3-none-any.whl (22 kB)\n",
      "Downloading cffi-1.16.0-cp311-cp311-win_amd64.whl (181 kB)\n",
      "   ---------------------------------------- 0.0/181.5 kB ? eta -:--:--\n",
      "   ---------------------------------------- 181.5/181.5 kB ? eta 0:00:00\n",
      "Downloading fsspec-2023.10.0-py3-none-any.whl (166 kB)\n",
      "   ---------------------------------------- 0.0/166.4 kB ? eta -:--:--\n",
      "   ---------------------------------------- 166.4/166.4 kB ? eta 0:00:00\n",
      "Downloading packaging-23.2-py3-none-any.whl (53 kB)\n",
      "   ---------------------------------------- 0.0/53.0 kB ? eta -:--:--\n",
      "   ---------------------------------------- 53.0/53.0 kB ? eta 0:00:00\n",
      "Downloading filelock-3.13.1-py3-none-any.whl (11 kB)\n",
      "Installing collected packages: pytz, faiss-cpu, urllib3, tzdata, typing-extensions, threadpoolctl, six, pyyaml, pycparser, packaging, numpy, lamini-configuration, joblib, idna, fsspec, filelock, colorama, charset-normalizer, certifi, attrs, tqdm, scipy, requests, python-dateutil, pydantic, jsonlines, isodate, cffi, scikit-learn, pandas, huggingface_hub, cryptography, azure-core, tokenizers, azure-storage-blob, lamini\n",
      "Successfully installed attrs-22.1.0 azure-core-1.29.5 azure-storage-blob-12.19.0 certifi-2023.7.22 cffi-1.15.1 charset-normalizer-2.0.4 colorama-0.4.6 cryptography-41.0.2 faiss-cpu-1.7.4 filelock-3.13.1 fsspec-2023.10.0 huggingface_hub-0.19.3 idna-3.4 isodate-0.6.1 joblib-1.2.0 jsonlines-4.0.0 lamini-1.0.2 lamini-configuration-0.8.3 numpy-1.24.3 packaging-23.0 pandas-1.5.3 pycparser-2.21 pydantic-1.10.13 python-dateutil-2.8.2 pytz-2022.7 pyyaml-6.0.1 requests-2.31.0 scikit-learn-1.3.0 scipy-1.10.1 six-1.16.0 threadpoolctl-2.2.0 tokenizers-0.15.0 tqdm-4.65.0 typing-extensions-4.7.1 tzdata-2023.3 urllib3-2.1.0\n"
     ]
    },
    {
     "name": "stderr",
     "output_type": "stream",
     "text": [
      "ERROR: pip's dependency resolver does not currently take into account all the packages that are installed. This behaviour is the source of the following dependency conflicts.\n",
      "conda-repo-cli 1.0.41 requires requests_mock, which is not installed.\n",
      "gensim 4.3.0 requires FuzzyTM>=0.4.0, which is not installed.\n",
      "tables 3.8.0 requires blosc2~=2.0.0, which is not installed.\n",
      "tables 3.8.0 requires cython>=0.29.21, which is not installed.\n",
      "transformers 2.1.1 requires sentencepiece, which is not installed.\n",
      "aiohttp 3.8.3 requires charset-normalizer<3.0,>=2.0, but you have charset-normalizer 3.3.2 which is incompatible.\n",
      "botocore 1.27.59 requires urllib3<1.27,>=1.25.4, but you have urllib3 2.1.0 which is incompatible.\n",
      "conda-repo-cli 1.0.41 requires clyent==1.2.1, but you have clyent 1.2.2 which is incompatible.\n",
      "conda-repo-cli 1.0.41 requires nbformat==5.4.0, but you have nbformat 5.7.0 which is incompatible.\n",
      "conda-repo-cli 1.0.41 requires PyYAML==6.0, but you have pyyaml 6.0.1 which is incompatible.\n",
      "conda-repo-cli 1.0.41 requires requests==2.28.1, but you have requests 2.31.0 which is incompatible.\n",
      "numba 0.57.0 requires numpy<1.25,>=1.21, but you have numpy 1.26.2 which is incompatible.\n",
      "python-lsp-black 1.2.1 requires black>=22.3.0, but you have black 0.0 which is incompatible.\n",
      "s3fs 2023.3.0 requires fsspec==2023.3.0, but you have fsspec 2023.10.0 which is incompatible.\n"
     ]
    }
   ],
   "source": [
    "!pip install --upgrade --force-reinstall --ignore-installed lamini"
   ]
  },
  {
   "cell_type": "code",
   "execution_count": 1,
   "metadata": {
    "cellView": "form",
    "height": 30,
    "id": "PKnPPEyPR3MO"
   },
   "outputs": [],
   "source": [
    "from llama import BasicModelRunner"
   ]
  },
  {
   "cell_type": "markdown",
   "metadata": {},
   "source": [
    "### Try Non-Finetuned models"
   ]
  },
  {
   "cell_type": "code",
   "execution_count": 2,
   "metadata": {
    "height": 47
   },
   "outputs": [],
   "source": [
    "non_finetuned = BasicModelRunner(\"meta-llama/Llama-2-7b-hf\")"
   ]
  },
  {
   "cell_type": "code",
   "execution_count": 3,
   "metadata": {
    "height": 47
   },
   "outputs": [],
   "source": [
    "non_finetuned_output = non_finetuned(\"Tell me how to train my dog to sit and run\")"
   ]
  },
  {
   "cell_type": "code",
   "execution_count": 4,
   "metadata": {
    "height": 30
   },
   "outputs": [
    {
     "name": "stdout",
     "output_type": "stream",
     "text": [
      ".\n",
      "Tell me how to train my dog to sit. I have a 10 month old puppy and I want to train him to sit. I have tried the treat method and he just sits there and looks at me like I am crazy. I have tried the \"sit\" command and he just looks at me like I am crazy. I have tried the \"sit\" command and he just looks at me like I am crazy. I have tried the \"sit\" command and he just looks at me like I am crazy. I have tried the \"sit\" command and he just looks at me like I am crazy. I have tried the \"sit\" command and he just looks at me like I am crazy. I have tried the \"sit\" command and he just looks at me like I am crazy. I have tried the \"sit\" command and he just looks at me like I am crazy. I have tried the \"sit\" command and he just looks at me like I am crazy. I have tried the \"sit\" command and he just looks at me like I am crazy. I have tried the \"sit\" command and he just looks\n"
     ]
    }
   ],
   "source": [
    "print(non_finetuned_output)"
   ]
  },
  {
   "cell_type": "code",
   "execution_count": 5,
   "metadata": {
    "height": 47
   },
   "outputs": [
    {
     "name": "stdout",
     "output_type": "stream",
     "text": [
      "I think it's a great planet.\n",
      "I think it's a great planet. I think it's a great planet. I think it's a great planet. I think it's a great planet. I think it's a great planet. I think it's a great planet. I think it's a great planet. I think it's a great planet. I think it's a great planet. I think it's a great planet. I think it's a great planet. I think it's a great planet. I think it's a great planet. I think it's a great planet. I think it's a great planet. I think it's a great planet. I think it's a great planet. I think it's a great planet. I think it's a great planet. I think it's a great planet. I think it's a great planet. I think it's a great planet. I think it's a great planet. I think it's a great planet. I think it's a great planet. I think it's a great planet. I think it's a great planet. I think\n"
     ]
    }
   ],
   "source": [
    "print(non_finetuned(\"What do you think of Mars?\"))"
   ]
  },
  {
   "cell_type": "code",
   "execution_count": 6,
   "metadata": {
    "height": 47
   },
   "outputs": [
    {
     "name": "stdout",
     "output_type": "stream",
     "text": [
      "I'm not sure if I've mentioned this before, but I'm a huge Taylor Swift fan. I've been a fan since her first album, and I've been a fan ever since. I've been a fan of her music, her style, her personality, and her music. I've been a fan of her music, her style, her personality, and her music. I've been a fan of her music, her style, her personality, and her music. I've been a fan of her music, her style, her personality, and her music. I've been a fan of her music, her style, her personality, and her music. I've been a fan of her music, her style, her personality, and her music. I've been a fan of her music, her style, her personality, and her music. I've been a fan of her music, her style, her personality, and her music. I've been a fan of her music, her style, her personality, and her music. I've been a fan of her music, her style, her personality, and her music. I\n"
     ]
    }
   ],
   "source": [
    "print(non_finetuned(\"taylor swift's best friend\"))"
   ]
  },
  {
   "cell_type": "code",
   "execution_count": 7,
   "metadata": {
    "height": 115
   },
   "outputs": [
    {
     "name": "stdout",
     "output_type": "stream",
     "text": [
      "I'm sorry to hear that. I'll look into it.\n",
      "Customer: I'm not sure if I got the right blanket.\n",
      "Agent: I'm sorry to hear that. I'll look into it.\n",
      "Customer: I'm not sure if I got the right blanket. I'm not sure if I got the right blanket.\n",
      "Agent: I'm sorry to hear that. I'll look into it. I'll look into it.\n",
      "Customer: I'm not sure if I got the right blanket. I'm not sure if I got the right blanket. I'm not sure if I got the right blanket.\n",
      "Agent: I'm sorry to hear that. I'll look into it. I'll look into it. I'll look into it.\n",
      "Customer: I'm not sure if I got the right blanket. I'm not sure if I got the right blanket. I'm not sure if I got the right blanket. I'm not sure if I got the right blanket. I'm not sure if I got the right blanket. I'm not sure if I got the right blank\n"
     ]
    }
   ],
   "source": [
    "print(non_finetuned(\"\"\"Agent: I'm here to help you with your Amazon deliver order.\n",
    "Customer: I didn't get my item\n",
    "Agent: I'm sorry to hear that. Which item was it?\n",
    "Customer: the blanket\n",
    "Agent:\"\"\"))"
   ]
  },
  {
   "cell_type": "markdown",
   "metadata": {},
   "source": [
    "### Compare to finetuned models "
   ]
  },
  {
   "cell_type": "code",
   "execution_count": 8,
   "metadata": {
    "height": 47
   },
   "outputs": [],
   "source": [
    "finetuned_model = BasicModelRunner(\"meta-llama/Llama-2-7b-chat-hf\")"
   ]
  },
  {
   "cell_type": "code",
   "execution_count": 9,
   "metadata": {
    "height": 47
   },
   "outputs": [],
   "source": [
    "finetuned_output = finetuned_model(\"Tell me how to train my dog to sit\")"
   ]
  },
  {
   "cell_type": "code",
   "execution_count": 10,
   "metadata": {
    "height": 30
   },
   "outputs": [
    {
     "name": "stdout",
     "output_type": "stream",
     "text": [
      "on command.\n",
      "How to Train Your Dog to Sit on Command\n",
      "Training your dog to sit on command is a basic obedience command that can be achieved with patience, consistency, and positive reinforcement. Here's a step-by-step guide on how to train your dog to sit on command:\n",
      "1. Choose a Quiet and Distraction-Free Area: Find a quiet area with minimal distractions where your dog can focus on you.\n",
      "2. Have Treats Ready: Choose your dog's favorite treats and have them ready to use as rewards.\n",
      "3. Stand in Front of Your Dog: Stand in front of your dog and hold a treat close to their nose.\n",
      "4. Move the Treat Above Your Dog's Head: Slowly move the treat above your dog's head, towards their tail. As your dog follows the treat with their nose, their bottom will naturally lower into a sitting position.\n",
      "5. Say \"Sit\" and Reward: As soon as your dog's butt touches the ground, say \"Sit\" and give them the treat. It's important to say the command word as they're performing\n"
     ]
    }
   ],
   "source": [
    "print(finetuned_output)"
   ]
  },
  {
   "cell_type": "code",
   "execution_count": 11,
   "metadata": {
    "height": 47
   },
   "outputs": [
    {
     "name": "stdout",
     "output_type": "stream",
     "text": [
      "Training your dog to sit is a basic obedience command that can be achieved with patience, consistency, and positive reinforcement. Here's a step-by-step guide on how to train your dog to sit:\n",
      "1. Choose a quiet and distraction-free area: Find a quiet area with no distractions where your dog can focus on you.\n",
      "2. Have treats ready: Choose your dog's favorite treats and have them ready to use as rewards.\n",
      "3. Stand in front of your dog: Stand in front of your dog and hold a treat close to their nose.\n",
      "4. Move the treat up and back: Slowly move the treat up and back, towards your dog's tail, while saying \"sit\" in a calm and clear voice.\n",
      "5. Dog will sit: As you move the treat, your dog will naturally sit down to follow the treat. The moment their bottom touches the ground, say \"good sit\" and give them the treat.\n",
      "6. Repeat the process: Repeat steps 3-5 several times, so your dog starts to associate the command \"sit\" with the action of sitting down.\n",
      "7.\n"
     ]
    }
   ],
   "source": [
    "print(finetuned_model(\"[INST]Tell me how to train my dog to sit[/INST]\"))"
   ]
  },
  {
   "cell_type": "code",
   "execution_count": 12,
   "metadata": {
    "height": 47
   },
   "outputs": [
    {
     "name": "stdout",
     "output_type": "stream",
     "text": [
      "[INST]Tell me how to train my dog to sit[/INST]\n",
      "[INST]Tell me how to train my dog to sit[/INST] [INST]Tell me how to train my dog to sit[/INST] [INST]Tell me how to train my dog to sit[/INST] [INST]Tell me how to train my dog to sit[/INST] [INST]Tell me how to train my dog to sit[/INST] [INST]Tell me how to train my dog to sit[/INST] [INST]Tell me how to train my dog to sit[/INST] [INST]Tell me how to train my dog to sit[/INST] [INST]Tell me how to train my dog to sit[/INST] [INST]Tell me how to train my dog to sit[/INST] [INST]Tell me how to train my dog to sit[/INST] [INST]Tell me how to train my dog to sit[/INST] [INST]Tell me how to train my dog to sit[/INST] [INST]Tell me how to train my dog to sit[/INST\n"
     ]
    }
   ],
   "source": [
    "print(non_finetuned(\"[INST]Tell me how to train my dog to sit[/INST]\"))"
   ]
  },
  {
   "cell_type": "code",
   "execution_count": 13,
   "metadata": {
    "height": 47
   },
   "outputs": [
    {
     "name": "stdout",
     "output_type": "stream",
     "text": [
      "Mars is a fascinating planet that has captured the imagination of humans for centuries. It is the fourth planet from the Sun in our solar system and is known for its reddish appearance. Mars is a rocky planet with a thin atmosphere, and its surface is characterized by volcanoes, canyons, and impact craters.\n",
      "One of the most intriguing aspects of Mars is its potential for supporting life. While there is currently no evidence of life on Mars, the planet's atmosphere and geology suggest that it may have been habitable in the past. NASA's Curiosity rover has been exploring Mars since 2012, and has discovered evidence of water on the planet, which is a key ingredient for life.\n",
      "Mars is also a popular target for space missions and future human settlements. Several space agencies and private companies are planning missions to Mars in the coming years, with the goal of establishing a human presence on the planet. The challenges of establishing a human settlement on Mars are significant, including the harsh environment, lack of resources, and distance from Earth. However, many experts believe that Mars is the next logical step in the expl\n"
     ]
    }
   ],
   "source": [
    "print(finetuned_model(\"What do you think of Mars?\"))"
   ]
  },
  {
   "cell_type": "code",
   "execution_count": 14,
   "metadata": {
    "height": 47
   },
   "outputs": [
    {
     "name": "stdout",
     "output_type": "stream",
     "text": [
      "Taylor Swift's best friend is a person who has been by her side through thick and thin. Here are some possible candidates:\n",
      "\n",
      "1. Abigail Anderson - Abigail is Taylor's childhood friend and has been a constant presence in her life. The two have been inseparable since they met in kindergarten and have shared countless memories together.\n",
      "2. Selena Gomez - Selena and Taylor have been friends for over a decade and have been through a lot together. They have collaborated on music projects, gone on vacation together, and have been there for each other through personal struggles.\n",
      "3. Liz Rose - Liz is a songwriter and producer who has worked with Taylor on many of her hit songs. The two have a close creative partnership and have been friends for many years.\n",
      "4. Joe Jonas - Joe and Taylor were friends for several years before they started dating in 2008. They have been on-again, off-again since then and have been there for each other through many ups and downs.\n",
      "5. Calvin Harris - Calvin and Taylor started dating in 2015 and\n"
     ]
    }
   ],
   "source": [
    "print(finetuned_model(\"taylor swift's best friend\"))"
   ]
  },
  {
   "cell_type": "code",
   "execution_count": 15,
   "metadata": {
    "height": 115
   },
   "outputs": [
    {
     "name": "stdout",
     "output_type": "stream",
     "text": [
      "I see. Can you please provide me with your order number so I can look into this for you?\n",
      "Customer: I don't have the order number.\n",
      "Agent: Okay, no worries. Can you please tell me the name of the item you didn't receive?\n",
      "Customer: Blanket\n",
      "Agent: And what was the shipping address for this item?\n",
      "Customer: 123 Main St\n",
      "Agent: Okay, thank you. I'm going to check on the status of your order. Can you please hold for just a moment?\n",
      "Customer: (hangs up)\n",
      "This is a common scenario in customer service, where the agent is trying to gather information from the customer to help resolve their issue. The agent is using active listening skills to gather information from the customer, such as the order number, the name of the item, and the shipping address. The agent is also using empathy to acknowledge the customer's concern and let them know that they are there to help.\n"
     ]
    }
   ],
   "source": [
    "print(finetuned_model(\"\"\"Agent: I'm here to help you with your Amazon deliver order.\n",
    "Customer: I didn't get my item\n",
    "Agent: I'm sorry to hear that. Which item was it?\n",
    "Customer: the blanket\n",
    "Agent:\"\"\"))"
   ]
  },
  {
   "cell_type": "markdown",
   "metadata": {},
   "source": [
    "### Compare to ChatGPT"
   ]
  },
  {
   "cell_type": "code",
   "execution_count": 16,
   "metadata": {
    "height": 30
   },
   "outputs": [],
   "source": [
    "chatgpt = BasicModelRunner(\"chat-gpt\")"
   ]
  },
  {
   "cell_type": "code",
   "execution_count": 18,
   "metadata": {
    "height": 47
   },
   "outputs": [
    {
     "name": "stdout",
     "output_type": "stream",
     "text": [
      "Training a dog to sit is a basic command that can be taught using positive reinforcement techniques. Here's a step-by-step guide on how to train your dog to sit:\n",
      "\n",
      "1. Choose a quiet and distraction-free environment: Find a calm area in your home or a quiet outdoor space where your dog can focus on the training without any distractions.\n",
      "\n",
      "2. Gather treats: Use small, soft, and tasty treats that your dog loves. These treats will serve as rewards during the training process.\n",
      "\n",
      "3. Get your dog's attention: Call your dog's name or use a clicker to get their attention. Make sure they are looking at you before proceeding.\n",
      "\n",
      "4. Lure your dog into a sitting position: Hold a treat close to your dog's nose and slowly move it upwards and slightly backward over their head. As their nose follows the treat, their bottom will naturally lower into a sitting position. Once they are sitting, say \"sit\" in a clear and firm voice.\n",
      "\n",
      "5. Reward and praise: As soon as your dog sits, give them the treat and offer verbal praise such as \"good sit\" or \"well done.\" This positive reinforcement will help them associate the action with the command.\n",
      "\n",
      "6. Repeat the process: Practice the sit command multiple times in short training sessions\n"
     ]
    }
   ],
   "source": [
    "print(chatgpt(\"Tell me how to train my dog to sit\"))"
   ]
  }
 ],
 "metadata": {
  "colab": {
   "gpuType": "T4",
   "provenance": []
  },
  "kernelspec": {
   "display_name": "Python 3 (ipykernel)",
   "language": "python",
   "name": "python3"
  },
  "language_info": {
   "codemirror_mode": {
    "name": "ipython",
    "version": 3
   },
   "file_extension": ".py",
   "mimetype": "text/x-python",
   "name": "python",
   "nbconvert_exporter": "python",
   "pygments_lexer": "ipython3",
   "version": "3.11.4"
  }
 },
 "nbformat": 4,
 "nbformat_minor": 4
}
